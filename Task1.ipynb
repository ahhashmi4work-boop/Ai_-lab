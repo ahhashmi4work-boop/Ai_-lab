import re

class DynamicCalculator:
    def __init__(self):
        # Operator precedence for Shunting Yard Algorithm
        self.precedence = {'+': 1, '-': 1, '*': 2, '/': 2}

    def preprocess(self, expression: str) -> str:
        
        expression = expression.replace('×', '*').replace('÷', '/')
        # Add * between number/closing parenthesis and opening parenthesis → 2(3+4) -> 2*(3+4)
        expression = re.sub(r'(\d|\))\s*\(', r'\1*(', expression)
        return expression

    def infix_to_postfix(self, expression: str):
        
        output = []
        stack = []

        tokens = re.findall(r'\d+\.\d+|\d+|[+\-*/()]', expression)
        for token in tokens:
            if token.replace('.', '', 1).isdigit():  # Number
                output.append(token)
            elif token in self.precedence:
                while (stack and stack[-1] in self.precedence and
                       self.precedence[stack[-1]] >= self.precedence[token]):
                    output.append(stack.pop())
                stack.append(token)
            elif token == '(':
                stack.append(token)
            elif token == ')':
                while stack and stack[-1] != '(':
                    output.append(stack.pop())
                stack.pop()  # remove '('

        while stack:
            output.append(stack.pop())

        return output

    def evaluate_postfix(self, postfix):
        
        stack = []
        for token in postfix:
            if token.replace('.', '', 1).isdigit():
                stack.append(float(token))
            else:
                b = stack.pop()
                a = stack.pop()
                if token == '+': stack.append(a + b)
                elif token == '-': stack.append(a - b)
                elif token == '*': stack.append(a * b)
                elif token == '/': stack.append(a / b)
        return stack.pop()

    def calculate(self, expression: str):
        try:
            expr = self.preprocess(expression)
            postfix = self.infix_to_postfix(expr)
            result = self.evaluate_postfix(postfix)
            return result
        except Exception as e:
            return f"Error: {e}"


if __name__ == "__main__":
    calc = DynamicCalculator()
    expression = "1+2×3(4-5÷4)-(3÷5)"
    result = calc.calculate(expression)
    print(f"Expression: {expression}")
    print(f"Result: {result}")

