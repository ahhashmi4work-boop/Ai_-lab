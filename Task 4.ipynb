{
 "cells": [
  {
   "cell_type": "code",
   "execution_count": 1,
   "id": "586b8be6",
   "metadata": {},
   "outputs": [
    {
     "name": "stdout",
     "output_type": "stream",
     "text": [
      "Original Sentence: MY NAME IS Ali hassan\n",
      "Sorted Sentence: Ali hassan IS MY NAME\n"
     ]
    }
   ],
   "source": [
    "def sort_sentence(sentence: str) -> str:\n",
    "    words = sentence.split()\n",
    "    words.sort(key=str.lower)\n",
    "    return \" \".join(words)\n",
    "\n",
    "if __name__ == \"__main__\":\n",
    "    text = \"MY NAME IS Ali hassan\"\n",
    "    print(\"Original Sentence:\", text)\n",
    "    print(\"Sorted Sentence:\", sort_sentence(text))\n"
   ]
  }
 ],
 "metadata": {
  "kernelspec": {
   "display_name": "base",
   "language": "python",
   "name": "python3"
  },
  "language_info": {
   "codemirror_mode": {
    "name": "ipython",
    "version": 3
   },
   "file_extension": ".py",
   "mimetype": "text/x-python",
   "name": "python",
   "nbconvert_exporter": "python",
   "pygments_lexer": "ipython3",
   "version": "3.13.5"
  }
 },
 "nbformat": 4,
 "nbformat_minor": 5
}
