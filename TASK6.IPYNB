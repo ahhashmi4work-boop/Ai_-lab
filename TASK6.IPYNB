{
 "cells": [
  {
   "cell_type": "code",
   "execution_count": 3,
   "id": "7f266204",
   "metadata": {},
   "outputs": [
    {
     "name": "stdout",
     "output_type": "stream",
     "text": [
      "BFS starting from D:\n",
      "D A B C E F "
     ]
    }
   ],
   "source": [
    "def bfs_without_queue(graph, start):\n",
    "    visited = set()\n",
    "    bfs_list = [start]   \n",
    "    index = 0            \n",
    "    while index < len(bfs_list):  \n",
    "        current = bfs_list[index]\n",
    "        index += 1\n",
    "        if current not in visited:\n",
    "            print(current, end=\" \")\n",
    "            visited.add(current)\n",
    "            for neighbor in graph[current]:\n",
    "                if neighbor not in visited:\n",
    "                    bfs_list.append(neighbor)\n",
    "if __name__ == \"__main__\":\n",
    "    graph = {\n",
    "        \"A\": [\"B\", \"C\"],\n",
    "        \"B\": [\"D\", \"E\"],\n",
    "        \"C\": [\"F\"],\n",
    "        \"D\": [\"A\"],\n",
    "        \"E\": [\"F\"],\n",
    "        \"F\": [\"D\",\"B\"]\n",
    "    }\n",
    "    print(\"BFS starting from D:\")\n",
    "    bfs_without_queue(graph, \"D\")\n"
   ]
  },
  {
   "cell_type": "code",
   "execution_count": 6,
   "id": "72434044",
   "metadata": {},
   "outputs": [
    {
     "name": "stdout",
     "output_type": "stream",
     "text": [
      "BFS starting from C:\n",
      "C F D E A B "
     ]
    }
   ],
   "source": [
    "from collections import deque\n",
    "def bfs_with_queue(graph, start):\n",
    "    visited = set()\n",
    "    queue = deque([start]) \n",
    "    while queue:\n",
    "        current = queue.popleft()   \n",
    "        if current not in visited:\n",
    "            print(current, end=\" \")\n",
    "            visited.add(current) \n",
    "            for neighbor in graph[current]:\n",
    "                if neighbor not in visited:\n",
    "                    queue.append(neighbor)\n",
    "if __name__ == \"__main__\":\n",
    "    graph = {\n",
    "        \"A\": [\"B\", \"C\"],\n",
    "        \"B\": [\"D\", \"E\"],\n",
    "        \"C\": [\"F\"],\n",
    "        \"D\": [\"D\",\"C\",\"A\"],\n",
    "        \"E\": [\"F\"],\n",
    "        \"F\": [\"D\",\"E\"]\n",
    "    }\n",
    "    print(\"BFS starting from C:\")\n",
    "    bfs_with_queue(graph, \"C\")\n"
   ]
  }
 ],
 "metadata": {
  "kernelspec": {
   "display_name": "base",
   "language": "python",
   "name": "python3"
  },
  "language_info": {
   "codemirror_mode": {
    "name": "ipython",
    "version": 3
   },
   "file_extension": ".py",
   "mimetype": "text/x-python",
   "name": "python",
   "nbconvert_exporter": "python",
   "pygments_lexer": "ipython3",
   "version": "3.13.5"
  }
 },
 "nbformat": 4,
 "nbformat_minor": 5
}
