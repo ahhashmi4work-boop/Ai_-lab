{
 "cells": [
  {
   "cell_type": "code",
   "execution_count": null,
   "id": "06882887",
   "metadata": {},
   "outputs": [
    {
     "name": "stdout",
     "output_type": "stream",
     "text": [
      "3\n"
     ]
    }
   ],
   "source": [
    "import math\n",
    "values = [3,5,2,2,7,8,5,8]\n",
    "levels = math.log(len(values),2)\n",
    "# print(levels)\n",
    "\n",
    "def minmax(currdepth, nodeindex,mintrun, values, totaldepth):\n",
    "    if currdepth == totaldepth:\n",
    "        return values[nodeindex]\n",
    "    \n",
    "    if mintrun:\n",
    "        return min( minmax(currdepth+1, nodeindex*2, False, values, totaldepth),\n",
    "                    minmax(currdepth+1, nodeindex*2 + 1, False, values, totaldepth))\n",
    "    else:\n",
    "        return max( minmax(currdepth+1, nodeindex*2, True, values, totaldepth),\n",
    "                    minmax(currdepth+1, nodeindex*2 + 1, True, values, totaldepth))\n",
    "\n",
    "print(minmax(0,0,True, values, levels))\n"
   ]
  }
 ],
 "metadata": {
  "kernelspec": {
   "display_name": "base",
   "language": "python",
   "name": "python3"
  },
  "language_info": {
   "codemirror_mode": {
    "name": "ipython",
    "version": 3
   },
   "file_extension": ".py",
   "mimetype": "text/x-python",
   "name": "python",
   "nbconvert_exporter": "python",
   "pygments_lexer": "ipython3",
   "version": "3.12.4"
  }
 },
 "nbformat": 4,
 "nbformat_minor": 5
}
