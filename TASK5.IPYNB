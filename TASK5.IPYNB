{
 "cells": [
  {
   "cell_type": "code",
   "execution_count": 6,
   "id": "350eb26d",
   "metadata": {},
   "outputs": [
    {
     "name": "stdout",
     "output_type": "stream",
     "text": [
      "DFS Traversal starting from D:\n",
      "D C E "
     ]
    }
   ],
   "source": [
    "class Node:\n",
    "    def __init__(self, value):\n",
    "        self.value = value\n",
    "        self.neighbors = []  \n",
    "    def add_neighbor(self, node):\n",
    "        self.neighbors.append(node)\n",
    "def dfs_with_stack(start_node):\n",
    "    visited = set()       \n",
    "    stack = [start_node]  \n",
    "    while stack:\n",
    "        current = stack.pop()  \n",
    "        if current not in visited:\n",
    "            print(current.value, end=\" \")  \n",
    "            visited.add(current)\n",
    "            for neighbor in reversed(current.neighbors):\n",
    "                if neighbor not in visited:\n",
    "                    stack.append(neighbor)\n",
    "if __name__ == \"__main__\":\n",
    "    A = Node(\"A\")\n",
    "    B = Node(\"B\")\n",
    "    C = Node(\"C\")\n",
    "    D = Node(\"D\")\n",
    "    E = Node(\"E\")\n",
    "    A.add_neighbor(B)\n",
    "    A.add_neighbor(C)\n",
    "    B.add_neighbor(D)\n",
    "    B.add_neighbor(E)\n",
    "    C.add_neighbor(E)\n",
    "    D.add_neighbor(C)\n",
    "    print(\"DFS Traversal starting from D:\")\n",
    "    dfs_with_stack(D)\n"
   ]
  }
 ],
 "metadata": {
  "kernelspec": {
   "display_name": "base",
   "language": "python",
   "name": "python3"
  },
  "language_info": {
   "codemirror_mode": {
    "name": "ipython",
    "version": 3
   },
   "file_extension": ".py",
   "mimetype": "text/x-python",
   "name": "python",
   "nbconvert_exporter": "python",
   "pygments_lexer": "ipython3",
   "version": "3.13.5"
  }
 },
 "nbformat": 4,
 "nbformat_minor": 5
}
